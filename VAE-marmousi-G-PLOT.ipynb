
This file should be deleted later.
